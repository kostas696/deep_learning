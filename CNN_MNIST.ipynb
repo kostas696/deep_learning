{
  "nbformat": 4,
  "nbformat_minor": 0,
  "metadata": {
    "colab": {
      "provenance": [],
      "authorship_tag": "ABX9TyOWAnwPtgFMG9vg1j45eXEW"
    },
    "kernelspec": {
      "name": "python3",
      "display_name": "Python 3"
    },
    "language_info": {
      "name": "python"
    },
    "widgets": {
      "application/vnd.jupyter.widget-state+json": {
        "504de3a1a5204f899f54c216300f6aec": {
          "model_module": "@jupyter-widgets/controls",
          "model_name": "HBoxModel",
          "model_module_version": "1.5.0",
          "state": {
            "_dom_classes": [],
            "_model_module": "@jupyter-widgets/controls",
            "_model_module_version": "1.5.0",
            "_model_name": "HBoxModel",
            "_view_count": null,
            "_view_module": "@jupyter-widgets/controls",
            "_view_module_version": "1.5.0",
            "_view_name": "HBoxView",
            "box_style": "",
            "children": [
              "IPY_MODEL_36a882544f8d4e638858089a65d2f86a",
              "IPY_MODEL_52b6e314572d4792b8823631499b22db",
              "IPY_MODEL_4c31aabb7df34e679ea72fb41af26fbf"
            ],
            "layout": "IPY_MODEL_b76e858f0ac244d09abde8e74bdbe6aa"
          }
        },
        "36a882544f8d4e638858089a65d2f86a": {
          "model_module": "@jupyter-widgets/controls",
          "model_name": "HTMLModel",
          "model_module_version": "1.5.0",
          "state": {
            "_dom_classes": [],
            "_model_module": "@jupyter-widgets/controls",
            "_model_module_version": "1.5.0",
            "_model_name": "HTMLModel",
            "_view_count": null,
            "_view_module": "@jupyter-widgets/controls",
            "_view_module_version": "1.5.0",
            "_view_name": "HTMLView",
            "description": "",
            "description_tooltip": null,
            "layout": "IPY_MODEL_9fb8295c350f49c6977080fb2ad221c9",
            "placeholder": "​",
            "style": "IPY_MODEL_3cc93da3a57148ba9a4a5aee4c0baa5d",
            "value": "Dl Completed...: 100%"
          }
        },
        "52b6e314572d4792b8823631499b22db": {
          "model_module": "@jupyter-widgets/controls",
          "model_name": "FloatProgressModel",
          "model_module_version": "1.5.0",
          "state": {
            "_dom_classes": [],
            "_model_module": "@jupyter-widgets/controls",
            "_model_module_version": "1.5.0",
            "_model_name": "FloatProgressModel",
            "_view_count": null,
            "_view_module": "@jupyter-widgets/controls",
            "_view_module_version": "1.5.0",
            "_view_name": "ProgressView",
            "bar_style": "success",
            "description": "",
            "description_tooltip": null,
            "layout": "IPY_MODEL_f470b9b679864dce9c12e61d0bacc19a",
            "max": 5,
            "min": 0,
            "orientation": "horizontal",
            "style": "IPY_MODEL_446b4b24ae9641d5bc128474becade20",
            "value": 5
          }
        },
        "4c31aabb7df34e679ea72fb41af26fbf": {
          "model_module": "@jupyter-widgets/controls",
          "model_name": "HTMLModel",
          "model_module_version": "1.5.0",
          "state": {
            "_dom_classes": [],
            "_model_module": "@jupyter-widgets/controls",
            "_model_module_version": "1.5.0",
            "_model_name": "HTMLModel",
            "_view_count": null,
            "_view_module": "@jupyter-widgets/controls",
            "_view_module_version": "1.5.0",
            "_view_name": "HTMLView",
            "description": "",
            "description_tooltip": null,
            "layout": "IPY_MODEL_44ef6fcacd394f64b2932744e879cccf",
            "placeholder": "​",
            "style": "IPY_MODEL_e53ce710dd5e474cb266fb9bd10c3be6",
            "value": " 5/5 [00:00&lt;00:00, 14.95 file/s]"
          }
        },
        "b76e858f0ac244d09abde8e74bdbe6aa": {
          "model_module": "@jupyter-widgets/base",
          "model_name": "LayoutModel",
          "model_module_version": "1.2.0",
          "state": {
            "_model_module": "@jupyter-widgets/base",
            "_model_module_version": "1.2.0",
            "_model_name": "LayoutModel",
            "_view_count": null,
            "_view_module": "@jupyter-widgets/base",
            "_view_module_version": "1.2.0",
            "_view_name": "LayoutView",
            "align_content": null,
            "align_items": null,
            "align_self": null,
            "border": null,
            "bottom": null,
            "display": null,
            "flex": null,
            "flex_flow": null,
            "grid_area": null,
            "grid_auto_columns": null,
            "grid_auto_flow": null,
            "grid_auto_rows": null,
            "grid_column": null,
            "grid_gap": null,
            "grid_row": null,
            "grid_template_areas": null,
            "grid_template_columns": null,
            "grid_template_rows": null,
            "height": null,
            "justify_content": null,
            "justify_items": null,
            "left": null,
            "margin": null,
            "max_height": null,
            "max_width": null,
            "min_height": null,
            "min_width": null,
            "object_fit": null,
            "object_position": null,
            "order": null,
            "overflow": null,
            "overflow_x": null,
            "overflow_y": null,
            "padding": null,
            "right": null,
            "top": null,
            "visibility": null,
            "width": null
          }
        },
        "9fb8295c350f49c6977080fb2ad221c9": {
          "model_module": "@jupyter-widgets/base",
          "model_name": "LayoutModel",
          "model_module_version": "1.2.0",
          "state": {
            "_model_module": "@jupyter-widgets/base",
            "_model_module_version": "1.2.0",
            "_model_name": "LayoutModel",
            "_view_count": null,
            "_view_module": "@jupyter-widgets/base",
            "_view_module_version": "1.2.0",
            "_view_name": "LayoutView",
            "align_content": null,
            "align_items": null,
            "align_self": null,
            "border": null,
            "bottom": null,
            "display": null,
            "flex": null,
            "flex_flow": null,
            "grid_area": null,
            "grid_auto_columns": null,
            "grid_auto_flow": null,
            "grid_auto_rows": null,
            "grid_column": null,
            "grid_gap": null,
            "grid_row": null,
            "grid_template_areas": null,
            "grid_template_columns": null,
            "grid_template_rows": null,
            "height": null,
            "justify_content": null,
            "justify_items": null,
            "left": null,
            "margin": null,
            "max_height": null,
            "max_width": null,
            "min_height": null,
            "min_width": null,
            "object_fit": null,
            "object_position": null,
            "order": null,
            "overflow": null,
            "overflow_x": null,
            "overflow_y": null,
            "padding": null,
            "right": null,
            "top": null,
            "visibility": null,
            "width": null
          }
        },
        "3cc93da3a57148ba9a4a5aee4c0baa5d": {
          "model_module": "@jupyter-widgets/controls",
          "model_name": "DescriptionStyleModel",
          "model_module_version": "1.5.0",
          "state": {
            "_model_module": "@jupyter-widgets/controls",
            "_model_module_version": "1.5.0",
            "_model_name": "DescriptionStyleModel",
            "_view_count": null,
            "_view_module": "@jupyter-widgets/base",
            "_view_module_version": "1.2.0",
            "_view_name": "StyleView",
            "description_width": ""
          }
        },
        "f470b9b679864dce9c12e61d0bacc19a": {
          "model_module": "@jupyter-widgets/base",
          "model_name": "LayoutModel",
          "model_module_version": "1.2.0",
          "state": {
            "_model_module": "@jupyter-widgets/base",
            "_model_module_version": "1.2.0",
            "_model_name": "LayoutModel",
            "_view_count": null,
            "_view_module": "@jupyter-widgets/base",
            "_view_module_version": "1.2.0",
            "_view_name": "LayoutView",
            "align_content": null,
            "align_items": null,
            "align_self": null,
            "border": null,
            "bottom": null,
            "display": null,
            "flex": null,
            "flex_flow": null,
            "grid_area": null,
            "grid_auto_columns": null,
            "grid_auto_flow": null,
            "grid_auto_rows": null,
            "grid_column": null,
            "grid_gap": null,
            "grid_row": null,
            "grid_template_areas": null,
            "grid_template_columns": null,
            "grid_template_rows": null,
            "height": null,
            "justify_content": null,
            "justify_items": null,
            "left": null,
            "margin": null,
            "max_height": null,
            "max_width": null,
            "min_height": null,
            "min_width": null,
            "object_fit": null,
            "object_position": null,
            "order": null,
            "overflow": null,
            "overflow_x": null,
            "overflow_y": null,
            "padding": null,
            "right": null,
            "top": null,
            "visibility": null,
            "width": null
          }
        },
        "446b4b24ae9641d5bc128474becade20": {
          "model_module": "@jupyter-widgets/controls",
          "model_name": "ProgressStyleModel",
          "model_module_version": "1.5.0",
          "state": {
            "_model_module": "@jupyter-widgets/controls",
            "_model_module_version": "1.5.0",
            "_model_name": "ProgressStyleModel",
            "_view_count": null,
            "_view_module": "@jupyter-widgets/base",
            "_view_module_version": "1.2.0",
            "_view_name": "StyleView",
            "bar_color": null,
            "description_width": ""
          }
        },
        "44ef6fcacd394f64b2932744e879cccf": {
          "model_module": "@jupyter-widgets/base",
          "model_name": "LayoutModel",
          "model_module_version": "1.2.0",
          "state": {
            "_model_module": "@jupyter-widgets/base",
            "_model_module_version": "1.2.0",
            "_model_name": "LayoutModel",
            "_view_count": null,
            "_view_module": "@jupyter-widgets/base",
            "_view_module_version": "1.2.0",
            "_view_name": "LayoutView",
            "align_content": null,
            "align_items": null,
            "align_self": null,
            "border": null,
            "bottom": null,
            "display": null,
            "flex": null,
            "flex_flow": null,
            "grid_area": null,
            "grid_auto_columns": null,
            "grid_auto_flow": null,
            "grid_auto_rows": null,
            "grid_column": null,
            "grid_gap": null,
            "grid_row": null,
            "grid_template_areas": null,
            "grid_template_columns": null,
            "grid_template_rows": null,
            "height": null,
            "justify_content": null,
            "justify_items": null,
            "left": null,
            "margin": null,
            "max_height": null,
            "max_width": null,
            "min_height": null,
            "min_width": null,
            "object_fit": null,
            "object_position": null,
            "order": null,
            "overflow": null,
            "overflow_x": null,
            "overflow_y": null,
            "padding": null,
            "right": null,
            "top": null,
            "visibility": null,
            "width": null
          }
        },
        "e53ce710dd5e474cb266fb9bd10c3be6": {
          "model_module": "@jupyter-widgets/controls",
          "model_name": "DescriptionStyleModel",
          "model_module_version": "1.5.0",
          "state": {
            "_model_module": "@jupyter-widgets/controls",
            "_model_module_version": "1.5.0",
            "_model_name": "DescriptionStyleModel",
            "_view_count": null,
            "_view_module": "@jupyter-widgets/base",
            "_view_module_version": "1.2.0",
            "_view_name": "StyleView",
            "description_width": ""
          }
        }
      }
    }
  },
  "cells": [
    {
      "cell_type": "code",
      "execution_count": 19,
      "metadata": {
        "id": "-2pumT0GPc52"
      },
      "outputs": [],
      "source": [
        "# Importing the relevant packages\n",
        "import tensorflow as tf\n",
        "import tensorflow_datasets as tfds\n",
        "\n",
        "import matplotlib.pyplot as plt\n",
        "import numpy as np"
      ]
    },
    {
      "cell_type": "markdown",
      "source": [
        "## Downloading and preprocessing the data"
      ],
      "metadata": {
        "id": "wLvxBWYZP2Rc"
      }
    },
    {
      "cell_type": "code",
      "source": [
        "# Defining some constants/hyperparameters\n",
        "BUFFER_SIZE = 70_000 # for reshuffling\n",
        "BATCH_SIZE = 128\n",
        "NUM_EPOCHS = 20"
      ],
      "metadata": {
        "id": "M-zwOO7zP4Jm"
      },
      "execution_count": 2,
      "outputs": []
    },
    {
      "cell_type": "code",
      "source": [
        "# Downloading the MNIST dataset\n",
        "mnist_dataset, mnist_info = tfds.load(name='mnist', with_info=True, as_supervised=True)"
      ],
      "metadata": {
        "colab": {
          "base_uri": "https://localhost:8080/",
          "height": 84,
          "referenced_widgets": [
            "504de3a1a5204f899f54c216300f6aec",
            "36a882544f8d4e638858089a65d2f86a",
            "52b6e314572d4792b8823631499b22db",
            "4c31aabb7df34e679ea72fb41af26fbf",
            "b76e858f0ac244d09abde8e74bdbe6aa",
            "9fb8295c350f49c6977080fb2ad221c9",
            "3cc93da3a57148ba9a4a5aee4c0baa5d",
            "f470b9b679864dce9c12e61d0bacc19a",
            "446b4b24ae9641d5bc128474becade20",
            "44ef6fcacd394f64b2932744e879cccf",
            "e53ce710dd5e474cb266fb9bd10c3be6"
          ]
        },
        "id": "s0RigLl7QW-N",
        "outputId": "f37fd970-1f3e-4928-ffae-22427a3df106"
      },
      "execution_count": 3,
      "outputs": [
        {
          "output_type": "stream",
          "name": "stdout",
          "text": [
            "Downloading and preparing dataset 11.06 MiB (download: 11.06 MiB, generated: 21.00 MiB, total: 32.06 MiB) to /root/tensorflow_datasets/mnist/3.0.1...\n"
          ]
        },
        {
          "output_type": "display_data",
          "data": {
            "text/plain": [
              "Dl Completed...:   0%|          | 0/5 [00:00<?, ? file/s]"
            ],
            "application/vnd.jupyter.widget-view+json": {
              "version_major": 2,
              "version_minor": 0,
              "model_id": "504de3a1a5204f899f54c216300f6aec"
            }
          },
          "metadata": {}
        },
        {
          "output_type": "stream",
          "name": "stdout",
          "text": [
            "Dataset mnist downloaded and prepared to /root/tensorflow_datasets/mnist/3.0.1. Subsequent calls will reuse this data.\n"
          ]
        }
      ]
    },
    {
      "cell_type": "code",
      "source": [
        "# Extracting the train and test datasets\n",
        "mnist_train, mnist_test = mnist_dataset['train'], mnist_dataset['test']"
      ],
      "metadata": {
        "id": "CbyaPZhbQoc1"
      },
      "execution_count": 4,
      "outputs": []
    },
    {
      "cell_type": "code",
      "source": [
        "# Creating a function to scale our image data\n",
        "def scale(image, label):\n",
        "    image = tf.cast(image, tf.float32)\n",
        "    image /= 255.\n",
        "\n",
        "    return image, label"
      ],
      "metadata": {
        "id": "RPlS79z9Q-Jg"
      },
      "execution_count": 5,
      "outputs": []
    },
    {
      "cell_type": "code",
      "source": [
        "# Scaling the data\n",
        "train_and_validation_data = mnist_train.map(scale)\n",
        "test_data = mnist_test.map(scale)"
      ],
      "metadata": {
        "id": "N2lyUspGRP1h"
      },
      "execution_count": 6,
      "outputs": []
    },
    {
      "cell_type": "code",
      "source": [
        "# Defining the size of the validation set\n",
        "num_validation_samples = 0.1 * mnist_info.splits['train'].num_examples\n",
        "num_validation_samples = tf.cast(num_validation_samples, tf.int64)"
      ],
      "metadata": {
        "id": "9dZla1c0RqtZ"
      },
      "execution_count": 7,
      "outputs": []
    },
    {
      "cell_type": "code",
      "source": [
        "# Defining the size of the test set\n",
        "num_test_samples = mnist_info.splits['test'].num_examples\n",
        "num_test_samples = tf.cast(num_test_samples, tf.int64)"
      ],
      "metadata": {
        "id": "-jCLBuIKRxC4"
      },
      "execution_count": 8,
      "outputs": []
    },
    {
      "cell_type": "code",
      "source": [
        "# Reshuffling the dataset\n",
        "train_and_validation_data = train_and_validation_data.shuffle(BUFFER_SIZE)"
      ],
      "metadata": {
        "id": "CqaaKbYJR97H"
      },
      "execution_count": 9,
      "outputs": []
    },
    {
      "cell_type": "code",
      "source": [
        "# Splitting the dataset into training + validation\n",
        "train_data = train_and_validation_data.skip(num_validation_samples)\n",
        "validation_data = train_and_validation_data.take(num_validation_samples)"
      ],
      "metadata": {
        "id": "aoNjOshVSN8r"
      },
      "execution_count": 11,
      "outputs": []
    },
    {
      "cell_type": "code",
      "source": [
        "# Batching the data\n",
        "train_data = train_data.batch(BATCH_SIZE)\n",
        "validation_data = validation_data.batch(num_validation_samples)\n",
        "test_data = test_data.batch(num_test_samples)"
      ],
      "metadata": {
        "id": "7-Ku1DNwSew-"
      },
      "execution_count": 12,
      "outputs": []
    },
    {
      "cell_type": "markdown",
      "source": [
        "## Creating the model and training it"
      ],
      "metadata": {
        "id": "UNUxHz8FSu1m"
      }
    },
    {
      "cell_type": "code",
      "source": [
        "# Outlining the model/architecture of our CNN\n",
        "model = tf.keras.Sequential([\n",
        "    tf.keras.layers.Conv2D(50, 5, activation='relu', input_shape=(28, 28, 1)),\n",
        "    tf.keras.layers.MaxPooling2D(pool_size=(2,2)),\n",
        "    tf.keras.layers.Conv2D(50, 3, activation='relu'),\n",
        "    tf.keras.layers.MaxPooling2D(pool_size=(2,2)),\n",
        "    tf.keras.layers.Flatten(),\n",
        "    tf.keras.layers.Dense(10)\n",
        "])"
      ],
      "metadata": {
        "id": "8s8M-yhkTH1N"
      },
      "execution_count": 13,
      "outputs": []
    },
    {
      "cell_type": "code",
      "source": [
        "# A brief summary of the model and parameters\n",
        "model.summary(line_length = 75)"
      ],
      "metadata": {
        "colab": {
          "base_uri": "https://localhost:8080/"
        },
        "id": "o_d98i-EUGl5",
        "outputId": "9222a34b-3d5b-4b79-ca1e-677e4c0f340c"
      },
      "execution_count": 14,
      "outputs": [
        {
          "output_type": "stream",
          "name": "stdout",
          "text": [
            "Model: \"sequential\"\n",
            "___________________________________________________________________________\n",
            " Layer (type)                    Output Shape                  Param #     \n",
            "===========================================================================\n",
            " conv2d (Conv2D)                 (None, 24, 24, 50)            1300        \n",
            "                                                                           \n",
            " max_pooling2d (MaxPooling2D)    (None, 12, 12, 50)            0           \n",
            "                                                                           \n",
            " conv2d_1 (Conv2D)               (None, 10, 10, 50)            22550       \n",
            "                                                                           \n",
            " max_pooling2d_1 (MaxPooling2D)  (None, 5, 5, 50)              0           \n",
            "                                                                           \n",
            " flatten (Flatten)               (None, 1250)                  0           \n",
            "                                                                           \n",
            " dense (Dense)                   (None, 10)                    12510       \n",
            "                                                                           \n",
            "===========================================================================\n",
            "Total params: 36360 (142.03 KB)\n",
            "Trainable params: 36360 (142.03 KB)\n",
            "Non-trainable params: 0 (0.00 Byte)\n",
            "___________________________________________________________________________\n"
          ]
        }
      ]
    },
    {
      "cell_type": "code",
      "source": [
        "# Defining the loss function\n",
        "# We use a loss calculation that automatically corrects for the missing softmax\n",
        "# That is the reason for 'from_logits=True'\n",
        "loss_fn = tf.keras.losses.SparseCategoricalCrossentropy(from_logits=True)"
      ],
      "metadata": {
        "id": "XF5wOGoIVJ9B"
      },
      "execution_count": 15,
      "outputs": []
    },
    {
      "cell_type": "code",
      "source": [
        "# Compiling the model with Adam optimizer and the categorical crossentropy as a loss function\n",
        "model.compile(optimizer='adam', loss=loss_fn, metrics=['accuracy'])"
      ],
      "metadata": {
        "id": "i2tlsnsFVeSg"
      },
      "execution_count": 16,
      "outputs": []
    },
    {
      "cell_type": "code",
      "source": [
        "# Defining early stopping to prevent overfitting\n",
        "early_stopping = tf.keras.callbacks.EarlyStopping(\n",
        "    monitor = 'val_loss',\n",
        "    mode = 'auto',\n",
        "    min_delta = 0,\n",
        "    patience = 2,\n",
        "    verbose = 0,\n",
        "    restore_best_weights = True\n",
        ")"
      ],
      "metadata": {
        "id": "mcJb_VJnVoEB"
      },
      "execution_count": 17,
      "outputs": []
    },
    {
      "cell_type": "code",
      "source": [
        "# Train the network\n",
        "model.fit(\n",
        "    train_data,\n",
        "    epochs = NUM_EPOCHS,\n",
        "    callbacks = [early_stopping],\n",
        "    validation_data = validation_data,\n",
        "    verbose = 2\n",
        ")"
      ],
      "metadata": {
        "colab": {
          "base_uri": "https://localhost:8080/"
        },
        "id": "uLDkl08iVyn1",
        "outputId": "6bf0e710-5f3a-476d-dcdb-8ebdf8699e2e"
      },
      "execution_count": 18,
      "outputs": [
        {
          "output_type": "stream",
          "name": "stdout",
          "text": [
            "Epoch 1/20\n",
            "422/422 - 72s - loss: 0.2626 - accuracy: 0.9249 - val_loss: 0.0828 - val_accuracy: 0.9750 - 72s/epoch - 170ms/step\n",
            "Epoch 2/20\n",
            "422/422 - 66s - loss: 0.0710 - accuracy: 0.9783 - val_loss: 0.0458 - val_accuracy: 0.9852 - 66s/epoch - 156ms/step\n",
            "Epoch 3/20\n",
            "422/422 - 69s - loss: 0.0539 - accuracy: 0.9833 - val_loss: 0.0483 - val_accuracy: 0.9823 - 69s/epoch - 164ms/step\n",
            "Epoch 4/20\n",
            "422/422 - 74s - loss: 0.0444 - accuracy: 0.9863 - val_loss: 0.0348 - val_accuracy: 0.9907 - 74s/epoch - 176ms/step\n",
            "Epoch 5/20\n",
            "422/422 - 80s - loss: 0.0373 - accuracy: 0.9891 - val_loss: 0.0293 - val_accuracy: 0.9915 - 80s/epoch - 189ms/step\n",
            "Epoch 6/20\n",
            "422/422 - 68s - loss: 0.0315 - accuracy: 0.9903 - val_loss: 0.0260 - val_accuracy: 0.9900 - 68s/epoch - 162ms/step\n",
            "Epoch 7/20\n",
            "422/422 - 67s - loss: 0.0285 - accuracy: 0.9912 - val_loss: 0.0299 - val_accuracy: 0.9895 - 67s/epoch - 158ms/step\n",
            "Epoch 8/20\n",
            "422/422 - 66s - loss: 0.0254 - accuracy: 0.9926 - val_loss: 0.0156 - val_accuracy: 0.9943 - 66s/epoch - 156ms/step\n",
            "Epoch 9/20\n",
            "422/422 - 66s - loss: 0.0218 - accuracy: 0.9931 - val_loss: 0.0192 - val_accuracy: 0.9938 - 66s/epoch - 157ms/step\n",
            "Epoch 10/20\n",
            "422/422 - 66s - loss: 0.0195 - accuracy: 0.9938 - val_loss: 0.0149 - val_accuracy: 0.9958 - 66s/epoch - 157ms/step\n",
            "Epoch 11/20\n",
            "422/422 - 71s - loss: 0.0166 - accuracy: 0.9949 - val_loss: 0.0143 - val_accuracy: 0.9955 - 71s/epoch - 169ms/step\n",
            "Epoch 12/20\n",
            "422/422 - 66s - loss: 0.0152 - accuracy: 0.9949 - val_loss: 0.0100 - val_accuracy: 0.9967 - 66s/epoch - 157ms/step\n",
            "Epoch 13/20\n",
            "422/422 - 67s - loss: 0.0140 - accuracy: 0.9957 - val_loss: 0.0107 - val_accuracy: 0.9972 - 67s/epoch - 159ms/step\n",
            "Epoch 14/20\n",
            "422/422 - 66s - loss: 0.0116 - accuracy: 0.9963 - val_loss: 0.0119 - val_accuracy: 0.9965 - 66s/epoch - 157ms/step\n"
          ]
        },
        {
          "output_type": "execute_result",
          "data": {
            "text/plain": [
              "<keras.src.callbacks.History at 0x7908d5745ff0>"
            ]
          },
          "metadata": {},
          "execution_count": 18
        }
      ]
    },
    {
      "cell_type": "markdown",
      "source": [
        "## Testing our model"
      ],
      "metadata": {
        "id": "k4E3v63EWYLy"
      }
    },
    {
      "cell_type": "code",
      "source": [
        "# Testing our model\n",
        "test_loss, test_accuracy = model.evaluate(test_data)"
      ],
      "metadata": {
        "colab": {
          "base_uri": "https://localhost:8080/"
        },
        "id": "dA7lDrYbWmBy",
        "outputId": "ac6b56fe-58b5-4dbc-e6e0-5de5b0b6e1b8"
      },
      "execution_count": 20,
      "outputs": [
        {
          "output_type": "stream",
          "name": "stdout",
          "text": [
            "1/1 [==============================] - 4s 4s/step - loss: 0.0339 - accuracy: 0.9903\n"
          ]
        }
      ]
    },
    {
      "cell_type": "code",
      "source": [
        "# Printing the test results\n",
        "print('Test loss: {0:.4f}. Test accuracy: {1:.2f}%'.format(test_loss, test_accuracy*100.))"
      ],
      "metadata": {
        "colab": {
          "base_uri": "https://localhost:8080/"
        },
        "id": "sdW4Pt4GWrjV",
        "outputId": "8336c184-44fa-4b6f-ebc0-1543f59b2ca0"
      },
      "execution_count": 21,
      "outputs": [
        {
          "output_type": "stream",
          "name": "stdout",
          "text": [
            "Test loss: 0.0339. Test accuracy: 99.03%\n"
          ]
        }
      ]
    },
    {
      "cell_type": "code",
      "source": [
        "# Split the test_data into 2 arrays, containing the images and the corresponding labels\n",
        "for images, labels in test_data.take(1):\n",
        "    images_test = images.numpy()\n",
        "    labels_test = labels.numpy()\n",
        "\n",
        "# Reshape the images into 28x28 form, suitable for matplotlib (original dimensions: 28x28x1)\n",
        "images_plot = np.reshape(images_test, (10000,28,28))"
      ],
      "metadata": {
        "id": "URvVI-qmW1xN"
      },
      "execution_count": 22,
      "outputs": []
    },
    {
      "cell_type": "code",
      "source": [
        "# The image to be displayed and tested\n",
        "i = 502\n",
        "\n",
        "# Plot the image\n",
        "plt.figure(figsize=(2, 2))\n",
        "plt.axis('off')\n",
        "plt.imshow(images_plot[i-1], cmap=\"gray\", aspect='auto')\n",
        "plt.show()\n",
        "\n",
        "# Print the correct label for the image\n",
        "print(\"Label: {}\".format(labels_test[i-1]))"
      ],
      "metadata": {
        "colab": {
          "base_uri": "https://localhost:8080/",
          "height": 208
        },
        "id": "ENaHjEtYW4NC",
        "outputId": "fa87179f-9290-41f1-c32b-a1187992a9a1"
      },
      "execution_count": 23,
      "outputs": [
        {
          "output_type": "display_data",
          "data": {
            "text/plain": [
              "<Figure size 200x200 with 1 Axes>"
            ],
            "image/png": "[encoded data removed]"
          },
          "metadata": {}
        },
        {
          "output_type": "stream",
          "name": "stdout",
          "text": [
            "Label: 5\n"
          ]
        }
      ]
    },
    {
      "cell_type": "code",
      "source": [
        "# Obtain the model's predictions (logits)\n",
        "predictions = model.predict(images_test[i-1:i])\n",
        "\n",
        "# Convert those predictions into probabilities\n",
        "probabilities = tf.nn.softmax(predictions).numpy()\n",
        "\n",
        "# Convert the probabilities into percentages\n",
        "probabilities = probabilities*100\n",
        "\n",
        "# Create a bar chart to plot the probabilities for each class\n",
        "plt.figure(figsize=(12,5))\n",
        "plt.bar(x=[1,2,3,4,5,6,7,8,9,10], height=probabilities[0], tick_label=[\"0\",\"1\",\"2\",\"3\",\"4\",\"5\",\"6\",\"7\",\"8\",\"9\"])\n",
        "plt.show()"
      ],
      "metadata": {
        "colab": {
          "base_uri": "https://localhost:8080/",
          "height": 463
        },
        "id": "Va4VfmYBW806",
        "outputId": "325a1ce5-007e-4141-d42b-84e87f754776"
      },
      "execution_count": 27,
      "outputs": [
        {
          "output_type": "stream",
          "name": "stdout",
          "text": [
            "1/1 [==============================] - 0s 26ms/step\n"
          ]
        },
        {
          "output_type": "display_data",
          "data": {
            "text/plain": [
              "<Figure size 1200x500 with 1 Axes>"
            ],
            "image/png": "[encoded data removed]"
          },
          "metadata": {}
        }
      ]
    }
  ]
}